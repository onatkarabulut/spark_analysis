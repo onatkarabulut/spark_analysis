{
 "cells": [
  {
   "cell_type": "markdown",
   "metadata": {},
   "source": [
    "## PROJE\n",
    "##### https://www.kaggle.com/deepmatrix/imdb-5000-movie-dataset \n",
    "##### Konu: imdb veri setini pyspark ile analiz etmek."
   ]
  },
  {
   "cell_type": "code",
   "execution_count": 2,
   "metadata": {},
   "outputs": [
    {
     "data": {
      "text/plain": [
       "'/opt/conda/lib/python3.10/site-packages/pyspark'"
      ]
     },
     "execution_count": 2,
     "metadata": {},
     "output_type": "execute_result"
    }
   ],
   "source": [
    "import findspark \n",
    "import pyspark\n",
    "from pyspark import SparkContext\n",
    "from pyspark.sql import SparkSession\n",
    "findspark.init()\n",
    "findspark.find()"
   ]
  },
  {
   "cell_type": "code",
   "execution_count": 3,
   "metadata": {},
   "outputs": [
    {
     "name": "stdout",
     "output_type": "stream",
     "text": [
      "23/04/14 19:10:11 WARN Utils: Your hostname, codespaces-282530 resolves to a loopback address: 127.0.0.1; using 172.16.5.4 instead (on interface eth0)\n",
      "23/04/14 19:10:11 WARN Utils: Set SPARK_LOCAL_IP if you need to bind to another address\n"
     ]
    },
    {
     "name": "stderr",
     "output_type": "stream",
     "text": [
      "Setting default log level to \"WARN\".\n",
      "To adjust logging level use sc.setLogLevel(newLevel). For SparkR, use setLogLevel(newLevel).\n"
     ]
    },
    {
     "name": "stdout",
     "output_type": "stream",
     "text": [
      "23/04/14 19:10:12 WARN NativeCodeLoader: Unable to load native-hadoop library for your platform... using builtin-java classes where applicable\n"
     ]
    }
   ],
   "source": [
    "try:\n",
    "    sc.stop()\n",
    "except NameError:\n",
    "    sc = SparkContext()\n"
   ]
  },
  {
   "cell_type": "code",
   "execution_count": 4,
   "metadata": {},
   "outputs": [],
   "source": [
    "rdd = sc.textFile('/workspaces/codespaces-jupyter/data/movie_metadata.csv')"
   ]
  },
  {
   "cell_type": "code",
   "execution_count": 5,
   "metadata": {},
   "outputs": [
    {
     "name": "stderr",
     "output_type": "stream",
     "text": [
      "                                                                                \r"
     ]
    },
    {
     "data": {
      "text/plain": [
       "defaultdict(int, {28: 4975, 29: 61, 30: 6, 31: 2})"
      ]
     },
     "execution_count": 5,
     "metadata": {},
     "output_type": "execute_result"
    }
   ],
   "source": [
    "rdd.map(lambda x: len(x.split(','))).map(lambda x:(x,1)).countByKey()"
   ]
  },
  {
   "cell_type": "code",
   "execution_count": 6,
   "metadata": {},
   "outputs": [],
   "source": [
    "spark = SparkSession.builder.appName(\"Film Analizi\").getOrCreate()\n",
    "films = spark.read.options(header=\"true\", inferSchema=\"true\") \\\n",
    "             .csv(\"/workspaces/codespaces-jupyter/data/movie_metadata.csv\")"
   ]
  },
  {
   "cell_type": "markdown",
   "metadata": {},
   "source": [
    "1- Hangi ülkenin kaç tane filmi ilk 5 bin arasında yer alıyor?\n"
   ]
  },
  {
   "cell_type": "code",
   "execution_count": 7,
   "metadata": {},
   "outputs": [
    {
     "name": "stdout",
     "output_type": "stream",
     "text": [
      "+-------+-----+\n",
      "|country|count|\n",
      "+-------+-----+\n",
      "|    USA| 3807|\n",
      "|     UK|  448|\n",
      "| France|  154|\n",
      "| Canada|  126|\n",
      "|Germany|   97|\n",
      "+-------+-----+\n",
      "only showing top 5 rows\n",
      "\n"
     ]
    }
   ],
   "source": [
    "# read fonksiyonunu kullanarak CSV dosyasını yükleyelim\n",
    "# `header=\"true\"` seçeneğiyle başlık satırını atlayalım\n",
    "# `inferSchema=\"true\"` seçeneğiyle şemayı otomatik olarak çıkaralım\n",
    "films = spark.read.options(header=\"true\", inferSchema=\"true\") \\\n",
    "             .csv(\"/workspaces/codespaces-jupyter/data/movie_metadata.csv\")\n",
    "\n",
    "# `groupBy` fonksiyonuyla \"country\" sütununa göre gruplandırma yapalım\n",
    "# `count` fonksiyonuyla her ülkenin film sayısını hesaplayalım\n",
    "# `sort` fonksiyonuyla \"count\" sütununa göre büyükten küçüğe sıralama yapalım\n",
    "# `limit` fonksiyonuyla ilk 5000 kaydı seçelim\n",
    "country_counts = (films.groupBy(\"country\")\n",
    "                       .count()\n",
    "                       .sort(\"count\", ascending=False)\n",
    "                       .limit(5000))\n",
    "\n",
    "# `show` fonksiyonuyla sonucu ekrana yazdıralım\n",
    "country_counts.show(5) # kaç ülke istersek o kadar yazarız"
   ]
  },
  {
   "cell_type": "markdown",
   "metadata": {},
   "source": [
    "2- Her ülkenin ortalama imdb puanı kaç?\n"
   ]
  },
  {
   "cell_type": "code",
   "execution_count": 8,
   "metadata": {},
   "outputs": [
    {
     "name": "stdout",
     "output_type": "stream",
     "text": [
      "+--------------------+------------------+\n",
      "|             country|         avg_score|\n",
      "+--------------------+------------------+\n",
      "|             Bahamas|               4.4|\n",
      "|            New Line|               4.4|\n",
      "|               Aruba|               4.8|\n",
      "|                Peru|               5.4|\n",
      "|            Cambodia|               5.6|\n",
      "|             Belgium|               5.6|\n",
      "|             Nigeria|               5.6|\n",
      "|             Georgia|               5.6|\n",
      "|         Switzerland|5.8999999999999995|\n",
      "|              Turkey|               6.0|\n",
      "|            Slovakia|               6.0|\n",
      "|            Thailand|              6.08|\n",
      "|              Russia| 6.081818181818182|\n",
      "|            Bulgaria|               6.1|\n",
      "|              Canada| 6.161904761904762|\n",
      "|         South Korea| 6.257142857142858|\n",
      "|         Philippines|               6.3|\n",
      "|       Official site|               6.3|\n",
      "|             Germany| 6.340206185567008|\n",
      "|                 USA| 6.367428421329131|\n",
      "|            Slovenia|               6.4|\n",
      "|        South Africa|            6.4375|\n",
      "|             Hungary| 6.449999999999999|\n",
      "|           Australia|6.5145454545454555|\n",
      "|               India| 6.532352941176472|\n",
      "|             Romania|               6.6|\n",
      "|               China| 6.623333333333332|\n",
      "|              France| 6.678571428571429|\n",
      "|              Norway|            6.7375|\n",
      "|           Hong Kong| 6.741176470588235|\n",
      "|              Mexico| 6.776470588235294|\n",
      "|             Ireland| 6.783333333333334|\n",
      "|                null|               6.8|\n",
      "|                  UK|6.8183035714285705|\n",
      "|               Spain|6.8242424242424224|\n",
      "|               Italy| 6.873913043478259|\n",
      "|               Chile|               6.9|\n",
      "|  Dominican Republic|               6.9|\n",
      "|         Netherlands|              6.94|\n",
      "|               Japan| 6.952173913043477|\n",
      "|      Czech Republic| 6.966666666666666|\n",
      "|              Greece|               7.0|\n",
      "|            Pakistan|               7.0|\n",
      "|              Taiwan|              7.15|\n",
      "|             Denmark| 7.172727272727272|\n",
      "|             Finland|               7.2|\n",
      "|              Panama|               7.2|\n",
      "|        West Germany| 7.266666666666667|\n",
      "|              Brazil|7.2749999999999995|\n",
      "|         New Zealand| 7.279999999999999|\n",
      "|             Iceland| 7.333333333333333|\n",
      "|         Afghanistan|               7.4|\n",
      "|               Kenya|               7.4|\n",
      "|           Argentina|               7.5|\n",
      "|            Cameroon|               7.5|\n",
      "|            Colombia|               7.5|\n",
      "|              Sweden| 7.516666666666666|\n",
      "|              Israel|7.5249999999999995|\n",
      "|           Indonesia|               7.6|\n",
      "|              Poland|              7.62|\n",
      "|                Iran|             7.725|\n",
      "|        Soviet Union|               8.1|\n",
      "|               Egypt|               8.1|\n",
      "|United Arab Emirates|               8.2|\n",
      "|               Libya|               8.4|\n",
      "|          Kyrgyzstan|               8.7|\n",
      "+--------------------+------------------+\n",
      "\n"
     ]
    }
   ],
   "source": [
    "# 1.yol\n",
    "\n",
    "from pyspark.sql.functions import avg\n",
    "\n",
    "country_avg = (films.groupBy(\"country\")\n",
    "                    .agg(avg(\"imdb_score\").alias(\"avg_score\"))\n",
    "                    .sort(\"avg_score\", reversed=False)\n",
    "                    .limit(115)\n",
    ")\n",
    "country_avg.show(100)"
   ]
  },
  {
   "cell_type": "code",
   "execution_count": 20,
   "metadata": {},
   "outputs": [
    {
     "name": "stdout",
     "output_type": "stream",
     "text": [
      "+--------------------+------------------+\n",
      "|             country|      imdb avarage|\n",
      "+--------------------+------------------+\n",
      "|          Kyrgyzstan|               8.7|\n",
      "|               Libya|               8.4|\n",
      "|United Arab Emirates|               8.2|\n",
      "|        Soviet Union|               8.1|\n",
      "|               Egypt|               8.1|\n",
      "|                Iran|             7.725|\n",
      "|              Poland|              7.62|\n",
      "|           Indonesia|               7.6|\n",
      "|              Israel|7.5249999999999995|\n",
      "|              Sweden| 7.516666666666666|\n",
      "|            Colombia|               7.5|\n",
      "|           Argentina|               7.5|\n",
      "|            Cameroon|               7.5|\n",
      "|               Kenya|               7.4|\n",
      "|         Afghanistan|               7.4|\n",
      "|             Iceland| 7.333333333333333|\n",
      "|         New Zealand| 7.279999999999999|\n",
      "|              Brazil|7.2749999999999995|\n",
      "|        West Germany| 7.266666666666667|\n",
      "|             Finland|               7.2|\n",
      "+--------------------+------------------+\n",
      "only showing top 20 rows\n",
      "\n"
     ]
    }
   ],
   "source": [
    "# 2.yol \n",
    "country_groups = films.groupBy(\"country\")\n",
    "country_groups_avg = (country_groups\n",
    "                      .agg(avg(\"imdb_score\").alias(\"imdb avarage\"))\n",
    "                      .sort(\"imdb avarage\", ascending=False)\n",
    "                      .show(20))\n"
   ]
  },
  {
   "cell_type": "code",
   "execution_count": 10,
   "metadata": {},
   "outputs": [
    {
     "name": "stdout",
     "output_type": "stream",
     "text": [
      "+--------------------+------------+\n",
      "|             country|imdb avarage|\n",
      "+--------------------+------------+\n",
      "|          Kyrgyzstan|         8.7|\n",
      "|               Libya|         8.4|\n",
      "|United Arab Emirates|         8.2|\n",
      "|        Soviet Union|         8.1|\n",
      "|               Egypt|         8.1|\n",
      "|                Iran|         7.7|\n",
      "|              Poland|         7.6|\n",
      "|           Indonesia|         7.6|\n",
      "|              Israel|         7.5|\n",
      "|              Sweden|         7.5|\n",
      "+--------------------+------------+\n",
      "only showing top 10 rows\n",
      "\n"
     ]
    }
   ],
   "source": [
    "# eğer virgülden sonrasını yuvarlamak istersek aynı koda şunu eklememiz yeterlidir\n",
    "\n",
    "from pyspark.sql.functions import round \n",
    "\n",
    "country_groups_avg_but_Rounded = (country_groups\n",
    "                                  .agg(round(avg(\"imdb_score\"),1).alias(\"imdb avarage\"))\n",
    "                                  .sort(\"imdb avarage\", ascending=False)\n",
    "                                  .show(10))\n"
   ]
  },
  {
   "cell_type": "markdown",
   "metadata": {},
   "source": [
    "3- Her yönetmenin ortalama imdb puanı kaç?\n"
   ]
  },
  {
   "cell_type": "code",
   "execution_count": 11,
   "metadata": {},
   "outputs": [
    {
     "name": "stdout",
     "output_type": "stream",
     "text": [
      "+--------------------+---------+\n",
      "|       director_name|avg_score|\n",
      "+--------------------+---------+\n",
      "|      John Blanchard|      9.5|\n",
      "|    Mitchell Altieri|      8.7|\n",
      "|           Cary Bell|      8.7|\n",
      "|    Sadyk Sher-Niyaz|      8.7|\n",
      "|        Mike Mayhall|      8.6|\n",
      "|     Charles Chaplin|      8.6|\n",
      "|     Damien Chazelle|      8.5|\n",
      "|          Ron Fricke|      8.5|\n",
      "|        Majid Majidi|      8.5|\n",
      "|          Raja Menon|      8.5|\n",
      "|        Sergio Leone|      8.5|\n",
      "|      S.S. Rajamouli|      8.4|\n",
      "|Rakeysh Omprakash...|      8.4|\n",
      "|     Catherine Owens|      8.4|\n",
      "|           Jay Oliva|      8.4|\n",
      "+--------------------+---------+\n",
      "only showing top 15 rows\n",
      "\n"
     ]
    }
   ],
   "source": [
    "director_groups = films.groupBy(\"director_name\")\n",
    "\n",
    "director_avg_scores = (director_groups\n",
    "                       .agg(round(avg(\"imdb_score\"),1)\n",
    "                            .alias(\"avg_score\")))\n",
    "director_avg_scores_sorted = director_avg_scores.sort(\"avg_score\", ascending=False).show(15)"
   ]
  },
  {
   "cell_type": "markdown",
   "metadata": {},
   "source": [
    "4- En çok hangi türde film ilk 5000'de yer almıştır\n"
   ]
  },
  {
   "cell_type": "code",
   "execution_count": 12,
   "metadata": {},
   "outputs": [
    {
     "name": "stdout",
     "output_type": "stream",
     "text": [
      "En çok Drama türündeki filmler ilk 5 binde yer almaktadır.\n"
     ]
    }
   ],
   "source": [
    "# 1.Yol\n",
    "\n",
    "from pyspark.sql.functions import desc\n",
    "\n",
    "# Sütunları seçelim\n",
    "movies = films.select(\"genres\", \"imdb_score\")\n",
    "\n",
    "# sadece ilk 5000 filmden oluşan bir veri kümesi oluşturalım\n",
    "movies = movies.orderBy(desc(\"imdb_score\")).limit(5000)\n",
    "\n",
    "# '|' karakteriyle ayrılmış türlerin listesini alalım\n",
    "genres = movies.rdd.flatMap(lambda row: row[0].split(\"|\"))\n",
    "\n",
    "# her türün sayısını say ve en yüksek olanı alalım\n",
    "top_genre = genres.countByValue().items()\n",
    "top_genre = sorted(top_genre, key=lambda x: x[1], reverse=True)[0][0]\n",
    "\n",
    "# cevabı yazdıralım\n",
    "print(\"En çok {} türündeki filmler ilk 5 binde yer almaktadır.\".format(top_genre))"
   ]
  },
  {
   "cell_type": "code",
   "execution_count": 13,
   "metadata": {},
   "outputs": [
    {
     "name": "stdout",
     "output_type": "stream",
     "text": [
      "+-----+-----+\n",
      "|genre|count|\n",
      "+-----+-----+\n",
      "|Drama|2140 |\n",
      "+-----+-----+\n",
      "only showing top 1 row\n",
      "\n"
     ]
    }
   ],
   "source": [
    "# 2.Yol\n",
    "\n",
    "from pyspark.sql.functions import desc, split\n",
    "\n",
    "movies_filtered = films.filter(films.gross.isNotNull())\n",
    "\n",
    "movies = movies_filtered.select(\"genres\", \"imdb_score\")\n",
    "\n",
    "top_movies = movies.orderBy(desc(\"imdb_score\")).limit(5000)\n",
    "\n",
    "top_genres = top_movies.select(split(top_movies.genres, \"\\|\").alias(\"genre\")).selectExpr(\"explode(genre) as genre\")\n",
    "\n",
    "top_genres.groupBy(\"genre\").count().sort(desc(\"count\")).show(1, False)"
   ]
  },
  {
   "cell_type": "code",
   "execution_count": 19,
   "metadata": {},
   "outputs": [
    {
     "name": "stdout",
     "output_type": "stream",
     "text": [
      "+---------+-----+\n",
      "|    genre|count|\n",
      "+---------+-----+\n",
      "|    Drama| 7706|\n",
      "|   Comedy| 5485|\n",
      "| Thriller| 4865|\n",
      "|   Action| 4253|\n",
      "|Adventure| 3622|\n",
      "|  Romance| 3516|\n",
      "|    Crime| 3063|\n",
      "|  Fantasy| 2377|\n",
      "|   Sci-Fi| 2290|\n",
      "|   Family| 2204|\n",
      "+---------+-----+\n",
      "only showing top 10 rows\n",
      "\n"
     ]
    }
   ],
   "source": [
    "# 3.Yol\n",
    "\n",
    "from pyspark.sql.functions import explode, split\n",
    "\n",
    "df_films = films.withColumn(\"genre\", explode(split(\"genres\",\"\\|\")))\n",
    "category_count = (df_films\n",
    "                  .withColumn(\"genre\", \n",
    "                              explode(split(\"genres\", \"\\|\")))\n",
    "                  .groupBy(\"genre\").count())\n",
    "category_count = category_count.sort(\"count\",ascending=False)\n",
    "category_count.show(10) # bizim ihtiyacımız olan en çok hangi tür olduğudur\n",
    "                        # bu yüzden show içerisine kaç yazdığımızın bir önemi yok"
   ]
  },
  {
   "cell_type": "markdown",
   "metadata": {},
   "source": [
    "5- En fazla bütçeye sahip olan filmler toplamda ne kadar hasılat elde etti? En fazla bütçeye sahip olan ilk 20 filmi karşılaştırın ortalama hasılatı yazdırın.\n"
   ]
  },
  {
   "cell_type": "code",
   "execution_count": 14,
   "metadata": {},
   "outputs": [
    {
     "name": "stdout",
     "output_type": "stream",
     "text": [
      "En yüksek bütçeye sahip olan ilk 20 film, toplamda 1549112804 hasılat elde etti. Ortalama hasılat ise 77455640.2.\n"
     ]
    }
   ],
   "source": [
    "from pyspark.sql.functions import desc\n",
    "\n",
    "# filmleri seçin ve bütçeye göre sıralayalım\n",
    "budget_revenue = films.select('budget', 'gross', 'movie_title').orderBy(desc('budget')).head(20)\n",
    "\n",
    "# toplam hasılatı hesaplayalım\n",
    "total_revenue = sum([film.gross for film in budget_revenue])\n",
    "\n",
    "# ortalama hasılatı hesaplayalım\n",
    "average_revenue = total_revenue/20\n",
    "\n",
    "# cevabı yazdıralım\n",
    "print(\"En yüksek bütçeye sahip olan ilk 20 film, toplamda {} hasılat elde etti. Ortalama hasılat ise {}.\".format(total_revenue, average_revenue))\n"
   ]
  }
 ],
 "metadata": {
  "kernelspec": {
   "display_name": "Python 3",
   "language": "python",
   "name": "python3"
  },
  "language_info": {
   "codemirror_mode": {
    "name": "ipython",
    "version": 3
   },
   "file_extension": ".py",
   "mimetype": "text/x-python",
   "name": "python",
   "nbconvert_exporter": "python",
   "pygments_lexer": "ipython3",
   "version": "3.6.15"
  }
 },
 "nbformat": 4,
 "nbformat_minor": 2
}
