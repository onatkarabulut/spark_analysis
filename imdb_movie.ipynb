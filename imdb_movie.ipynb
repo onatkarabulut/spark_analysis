{
 "cells": [
  {
   "attachments": {},
   "cell_type": "markdown",
   "metadata": {},
   "source": [
    "## PROJE\n",
    "##### Konu: imdb veri setini pyspark ile analiz etmek."
   ]
  },
  {
   "cell_type": "code",
   "execution_count": 1,
   "metadata": {},
   "outputs": [
    {
     "data": {
      "text/plain": [
       "'/opt/conda/lib/python3.10/site-packages/pyspark'"
      ]
     },
     "execution_count": 1,
     "metadata": {},
     "output_type": "execute_result"
    }
   ],
   "source": [
    "import findspark \n",
    "import pyspark\n",
    "from pyspark import SparkContext\n",
    "from pyspark.sql import SparkSession\n",
    "from pyspark.sql.functions import avg\n",
    "findspark.init()\n",
    "findspark.find()"
   ]
  },
  {
   "cell_type": "code",
   "execution_count": 2,
   "metadata": {},
   "outputs": [
    {
     "name": "stdout",
     "output_type": "stream",
     "text": [
      "23/04/17 12:30:46 WARN Utils: Your hostname, codespaces-282530 resolves to a loopback address: 127.0.0.1; using 172.16.5.4 instead (on interface eth0)\n",
      "23/04/17 12:30:46 WARN Utils: Set SPARK_LOCAL_IP if you need to bind to another address\n"
     ]
    },
    {
     "name": "stderr",
     "output_type": "stream",
     "text": [
      "Setting default log level to \"WARN\".\n",
      "To adjust logging level use sc.setLogLevel(newLevel). For SparkR, use setLogLevel(newLevel).\n"
     ]
    },
    {
     "name": "stdout",
     "output_type": "stream",
     "text": [
      "23/04/17 12:30:46 WARN NativeCodeLoader: Unable to load native-hadoop library for your platform... using builtin-java classes where applicable\n"
     ]
    }
   ],
   "source": [
    "csv_path = '/workspaces/codespaces-jupyter/data/movie_metadata.csv'\n",
    "try:\n",
    "    sc = SparkContext()\n",
    "except ValueError:\n",
    "    sc.stop()       #type:ignore\n",
    "    sc = SparkContext()\n",
    "finally:\n",
    "    rdd = sc.textFile(csv_path)     #type:ignore\n",
    "    \n",
    "spark = SparkSession.builder.appName(\"Film Analizi\").getOrCreate()\n",
    "films_data = spark.read.options(header=\"true\", inferSchema=\"true\") \\\n",
    "             .csv(csv_path)"
   ]
  },
  {
   "cell_type": "code",
   "execution_count": 3,
   "metadata": {},
   "outputs": [],
   "source": [
    "from pyspark.sql.functions import desc\n",
    "\n",
    "\n",
    "films = films_data.filter(films_data.budget.isNotNull()).sort(desc('imdb_score'))\n",
    "# datayı temizleyelim ve ardından sorularda işimizi kolaylaştırmak için bütün listeyi imdb puanına göre sıralayalım\n",
    "\n",
    "#temizlemek istediğimiz data olursa göndermemiz için yazdık\n",
    "def data_cleaning(data):\n",
    "    data = data.filter(films.budget.isNotNull())\n",
    "    return data"
   ]
  },
  {
   "cell_type": "code",
   "execution_count": 4,
   "metadata": {},
   "outputs": [
    {
     "name": "stdout",
     "output_type": "stream",
     "text": [
      "23/04/17 12:31:28 WARN package: Truncated the string representation of a plan since it was too large. This behavior can be adjusted by setting 'spark.sql.debug.maxToStringFields'.\n",
      "+----------------+--------------------+----------------------+--------+-----------------------+----------------------+--------------------+----------------------+---------+--------------------+-------------------+--------------------+---------------+-------------------------+--------------------+--------------------+--------------------+--------------------+--------------------+----------+-----------+--------------+---------+----------+----------------------+----------+------------+--------------------+\n",
      "|           color|       director_name|num_critic_for_reviews|duration|director_facebook_likes|actor_3_facebook_likes|        actor_2_name|actor_1_facebook_likes|    gross|              genres|       actor_1_name|         movie_title|num_voted_users|cast_total_facebook_likes|        actor_3_name|facenumber_in_poster|       plot_keywords|     movie_imdb_link|num_user_for_reviews|  language|    country|content_rating|   budget|title_year|actor_2_facebook_likes|imdb_score|aspect_ratio|movie_facebook_likes|\n",
      "+----------------+--------------------+----------------------+--------+-----------------------+----------------------+--------------------+----------------------+---------+--------------------+-------------------+--------------------+---------------+-------------------------+--------------------+--------------------+--------------------+--------------------+--------------------+----------+-----------+--------------+---------+----------+----------------------+----------+------------+--------------------+\n",
      "|           Color|      Frank Darabont|                   199|     142|                      0|                   461|      Jeffrey DeMunn|                 11000| 28341469|         Crime|Drama|     Morgan Freeman|The Shawshank Red...|        1689764|                    13495|          Bob Gunton|                   0|escape from priso...|http://www.imdb.c...|                4144|   English|        USA|             R| 25000000|      1994|                   745|       9.3|        1.85|              108000|\n",
      "|           Color|Francis Ford Coppola|                   208|     175|                      0|                  3000|       Marlon Brando|                 14000|134821952|         Crime|Drama|          Al Pacino|      The Godfather |        1155770|                    28122|       Robert Duvall|                   1|crime family|mafi...|http://www.imdb.c...|                2238|   English|        USA|             R|  6000000|      1972|                 10000|       9.2|        1.85|               43000|\n",
      "|            null|      John Stockwell|                     2|      90|                    134|                   354|          T.J. Storm|                260000|     null|              Action|       Matthew Ziff|Kickboxer: Vengea...|            246|                   261818|          Sam Medina|                   5|                null|http://www.imdb.c...|                   1|      null|        USA|          null| 17000000|      2016|                   454|       9.1|        null|                   0|\n",
      "|           Color|Francis Ford Coppola|                   149|     220|                      0|                  3000|           Al Pacino|                 22000| 57300000|         Crime|Drama|     Robert De Niro|The Godfather: Pa...|         790926|                    39960|       Robert Duvall|                   1|1950s|corrupt pol...|http://www.imdb.c...|                 650|   English|        USA|             R| 13000000|      1974|                 14000|       9.0|        1.85|               14000|\n",
      "|           Color|   Christopher Nolan|                   645|     152|                  22000|                 11000|        Heath Ledger|                 23000|533316061|Action|Crime|Dram...|     Christian Bale|    The Dark Knight |        1676169|                    57802|      Morgan Freeman|                   0|based on comic bo...|http://www.imdb.c...|                4667|   English|        USA|         PG-13|185000000|      2008|                 13000|       9.0|        2.35|               37000|\n",
      "|           Color|       Peter Jackson|                   328|     192|                      0|                   416|          Billy Boyd|                  5000|377019252|Action|Adventure|...|      Orlando Bloom|The Lord of the R...|        1215718|                     6434|        Bernard Hill|                   2|battle|epic|king|...|http://www.imdb.c...|                3189|   English|        USA|         PG-13| 94000000|      2003|                   857|       8.9|        2.35|               16000|\n",
      "|           Color|        Sergio Leone|                   181|     142|                      0|                    24|      Luigi Pistilli|                 16000|  6100000|             Western|     Clint Eastwood|The Good, the Bad...|         503509|                    16089|         Enzo Petito|                   3|civil war|hitman|...|http://www.imdb.c...|                 780|   Italian|      Italy|      Approved|  1200000|      1966|                    34|       8.9|        2.35|               20000|\n",
      "|           Color|   Quentin Tarantino|                   215|     178|                  16000|                   857|         Eric Stoltz|                 13000|107930000|         Crime|Drama|       Bruce Willis|       Pulp Fiction |        1324680|                    16557|         Phil LaMarr|                   1|black comedy|cunn...|http://www.imdb.c...|                2195|   English|        USA|             R|  8000000|      1994|                   902|       8.9|        2.35|               45000|\n",
      "| Black and White|        Sidney Lumet|                   177|      96|                      0|                   253|         Lee J. Cobb|                   359|     null|         Crime|Drama|        Jack Warden|       12 Angry Men |         447785|                     1433|        John Fiedler|                   1|courtroom|dialogu...|http://www.imdb.c...|                 888|   English|        USA|     Not Rated|   350000|      1957|                   259|       8.9|        1.66|               40000|\n",
      "| Black and White|    Steven Spielberg|                   174|     185|                  14000|                   212|      Embeth Davidtz|                 14000| 96067179|Biography|Drama|H...|        Liam Neeson|   Schindler's List |         865020|                    15233|    Caroline Goodall|                   0|german|german sol...|http://www.imdb.c...|                1273|   English|        USA|             R| 22000000|      1993|                   795|       8.9|        1.85|               41000|\n",
      "|           Color|       Peter Jackson|                   297|     171|                      0|                   857|       Orlando Bloom|                 16000|313837577|Action|Adventure|...|    Christopher Lee|The Lord of the R...|        1238746|                    22342|          Billy Boyd|                   2|elf|hobbit|middle...|http://www.imdb.c...|                5060|   English|New Zealand|         PG-13| 93000000|      2001|                  5000|       8.8|        2.35|               21000|\n",
      "|           Color|   Christopher Nolan|                   642|     148|                  22000|                 23000|           Tom Hardy|                 29000|292568851|Action|Adventure|...|  Leonardo DiCaprio|          Inception |        1468200|                    81115|Joseph Gordon-Levitt|                   0|ambiguous ending|...|http://www.imdb.c...|                2803|   English|        USA|         PG-13|160000000|      2010|                 27000|       8.8|        2.35|              175000|\n",
      "|           Color|       David Fincher|                   315|     151|                  21000|                   637|           Meat Loaf|                 11000| 37023395|               Drama|          Brad Pitt|         Fight Club |        1347461|                    13209|   Eugenie Bondurant|                   2|anti establishmen...|http://www.imdb.c...|                2968|   English|        USA|             R| 63000000|      1999|                   783|       8.8|        2.35|               48000|\n",
      "| Black and White|     Robert Zemeckis|                   149|     142|                      0|                   194|Siobhan Fallon Hogan|                 15000|329691196|        Comedy|Drama|          Tom Hanks|       Forrest Gump |        1251222|                    15700|        Sam Anderson|                   0|amputee|love|viet...|http://www.imdb.c...|                1398|   English|        USA|         PG-13| 55000000|      1994|                   294|       8.8|        2.35|               59000|\n",
      "|           Color|      Irvin Kershner|                   223|     127|                    883|                   441|         Kenny Baker|                 11000|290158751|Action|Adventure|...|      Harrison Ford|Star Wars: Episod...|         837759|                    12643|     Anthony Daniels|                   0|duel|famous twist...|http://www.imdb.c...|                 900|   English|        USA|            PG| 18000000|      1980|                   504|       8.8|        2.35|               17000|\n",
      "|           Color|      Lana Wachowski|                   313|     136|                      0|                    99|        Marcus Chong|                 18000|171383253|       Action|Sci-Fi|       Keanu Reeves|         The Matrix |        1217752|                    18563|       Gloria Foster|                   3|artificial realit...|http://www.imdb.c...|                3646|   English|        USA|             R| 63000000|      1999|                   145|       8.7|        2.35|               25000|\n",
      "|           Color|     Martin Scorsese|                   192|     146|                  17000|                   635|          Mike Starr|                 22000| 46836394|Biography|Crime|D...|     Robert De Niro|         Goodfellas |         728685|                    24783|        Paul Sorvino|                   3|betrayal|gangster...|http://www.imdb.c...|                 989|   English|        USA|             R| 25000000|      1990|                   854|       8.7|        1.85|               25000|\n",
      "|           Color|        Milos Forman|                   149|     133|                    869|                   425|    Michael Berryman|                   888|112000000|               Drama|   Scatman Crothers|One Flew Over the...|         680041|                     2176|     Louise Fletcher|                   0|1960s|escape|ment...|http://www.imdb.c...|                 760|   English|        USA|             R|  4400000|      1975|                   721|       8.7|        1.85|               32000|\n",
      "|           Color|        George Lucas|                   282|     125|                      0|                   504|       Peter Cushing|                 11000|460935665|Action|Adventure|...|      Harrison Ford|Star Wars: Episod...|         911097|                    13485|         Kenny Baker|                   1|death star|empire...|http://www.imdb.c...|                1470|   English|        USA|            PG| 11000000|      1977|                  1000|       8.7|        2.35|               33000|\n",
      "|           Color|  Fernando Meirelles|                   214|     135|                    353|                    40|           Seu Jorge|                  1000|  7563397|         Crime|Drama|        Alice Braga|        City of God |         533200|                     1211| Alexandre Rodrigues|                   0|coming of age|mal...|http://www.imdb.c...|                 749|Portuguese|     Brazil|             R|  3300000|      2002|                    69|       8.7|        1.85|               28000|\n",
      "|           Color|    Sadyk Sher-Niyaz|                    16|     135|                    135|                     0|   Aziz Muradillayev|                     0|     null|Action|Biography|...|    Elina Abai Kyzy|Queen of the Moun...|           3144|                        0|    Mirlan Abdulayev|                   1|19th century|cent...|http://www.imdb.c...|                  24|   English| Kyrgyzstan|         PG-13|  1400000|      2014|                     0|       8.7|        2.35|                   0|\n",
      "|           Color|       Peter Jackson|                   294|     172|                      0|                   857|       Orlando Bloom|                 16000|340478898|Action|Adventure|...|    Christopher Lee|The Lord of the R...|        1100446|                    23052|          Billy Boyd|                   1|epic|evil wizard|...|http://www.imdb.c...|                2417|   English|        USA|         PG-13| 94000000|      2002|                  5000|       8.7|        2.35|               10000|\n",
      "| Black and White|      Akira Kurosawa|                   153|     202|                      0|                     4|       Minoru Chiaki|                   304|   269061|Action|Adventure|...|    Takashi Shimura|      Seven Samurai |         229012|                      338|   Kamatari Fujiwara|                   6|16th century|batt...|http://www.imdb.c...|                 596|  Japanese|      Japan|       Unrated|  2000000|      1954|                     8|       8.7|        1.37|               11000|\n",
      "|           Color|           Cary Bell|                  null|      78|                      0|                     0|        Stacie Evans|                     0|     null|         Documentary|      Abigail Evans|     Butterfly Girl |             27|                        0|        Emily Gorell|                   0|                null|http://www.imdb.c...|                   1|   English|        USA|          null|   180000|      2014|                     0|       8.7|        null|                  88|\n",
      "|           Color|   Christopher Nolan|                   712|     169|                  22000|                  6000|       Anne Hathaway|                 11000|187991439|Adventure|Drama|S...|Matthew McConaughey|       Interstellar |         928227|                    31488|       Mackenzie Foy|                   1|black hole|father...|http://www.imdb.c...|                2725|   English|        USA|         PG-13|165000000|      2014|                 11000|       8.6|        2.35|              349000|\n",
      "|           Color|    Steven Spielberg|                   219|     169|                  14000|                 13000|          Vin Diesel|                 15000|216119491|    Action|Drama|War|          Tom Hanks|Saving Private Ryan |         881236|                    44998|          Matt Damon|                   2|army|invasion|kil...|http://www.imdb.c...|                2277|   English|        USA|             R| 70000000|      1998|                 14000|       8.6|        1.85|               22000|\n",
      "|           Color|       David Fincher|                   216|     127|                  21000|                   360|           Brad Pitt|                 11000|100125340|Crime|Drama|Myste...|     Morgan Freeman|              Se7en |        1023511|                    22678|       Reg E. Cathey|                   0|detective|police ...|http://www.imdb.c...|                1080|   English|        USA|             R| 33000000|      1995|                 11000|       8.6|        2.35|               39000|\n",
      "|           Color|      Jonathan Demme|                   185|     138|                    438|                   173|         Scott Glenn|                 12000|130727000|Crime|Drama|Horro...|    Anthony Hopkins|The Silence of th...|         887467|                    13184|       Anthony Heald|                   0|case file|fbi age...|http://www.imdb.c...|                 916|   English|        USA|             R| 19000000|      1991|                   826|       8.6|        1.85|               40000|\n",
      "|           Color|      Hayao Miyazaki|                   246|     125|                   6000|                     7|    Ryûnosuke Kamiki|                    17| 10049886|Adventure|Animati...|     Bunta Sugawara|      Spirited Away |         417971|                       44|          Miyu Irino|                   0|anime|bathhouse|p...|http://www.imdb.c...|                 902|  Japanese|      Japan|            PG| 19000000|      2001|                    10|       8.6|        1.85|               28000|\n",
      "| Black and White|           Tony Kaye|                   162|     101|                    194|                   602|    Beverly D'Angelo|                  1000|  6712241|         Crime|Drama|       Ethan Suplee| American History X |         782437|                     3858|         Stacy Keach|                   2|curb stomping|neo...|http://www.imdb.c...|                1420|   English|        USA|             R|  7500000|      1998|                   816|       8.6|        1.85|               35000|\n",
      "+----------------+--------------------+----------------------+--------+-----------------------+----------------------+--------------------+----------------------+---------+--------------------+-------------------+--------------------+---------------+-------------------------+--------------------+--------------------+--------------------+--------------------+--------------------+----------+-----------+--------------+---------+----------+----------------------+----------+------------+--------------------+\n",
      "only showing top 30 rows\n",
      "\n"
     ]
    }
   ],
   "source": [
    "films.show(30) # yukarıda yaptığımız işlemi verimizin sadece ilk 30 satırında test edelim"
   ]
  },
  {
   "attachments": {},
   "cell_type": "markdown",
   "metadata": {},
   "source": [
    "## <br>Analiz Soruları\n",
    "<br>\n",
    "<br>"
   ]
  },
  {
   "attachments": {},
   "cell_type": "markdown",
   "metadata": {},
   "source": [
    "1- Hangi ülkenin kaç tane filmi ilk 5 bin arasında yer alıyor?\n"
   ]
  },
  {
   "cell_type": "code",
   "execution_count": 6,
   "metadata": {},
   "outputs": [
    {
     "name": "stdout",
     "output_type": "stream",
     "text": [
      "+--------------+----------+\n",
      "|       country|film_count|\n",
      "+--------------+----------+\n",
      "|           USA|      3509|\n",
      "|            UK|       379|\n",
      "|        France|       130|\n",
      "|        Canada|       109|\n",
      "|       Germany|        90|\n",
      "|     Australia|        50|\n",
      "|         Spain|        27|\n",
      "|         China|        23|\n",
      "|         Italy|        20|\n",
      "|         Japan|        20|\n",
      "|         India|        19|\n",
      "|     Hong Kong|        15|\n",
      "|        Mexico|        14|\n",
      "|   New Zealand|        13|\n",
      "|   South Korea|        12|\n",
      "|        Russia|        10|\n",
      "|       Denmark|         9|\n",
      "|  South Africa|         8|\n",
      "|       Ireland|         8|\n",
      "|        Norway|         8|\n",
      "|        Brazil|         7|\n",
      "|   Netherlands|         5|\n",
      "|     Argentina|         4|\n",
      "|       Romania|         4|\n",
      "|          Iran|         4|\n",
      "|      Thailand|         4|\n",
      "|        Sweden|         3|\n",
      "|        Israel|         3|\n",
      "|Czech Republic|         3|\n",
      "|   Switzerland|         3|\n",
      "+--------------+----------+\n",
      "only showing top 30 rows\n",
      "\n"
     ]
    }
   ],
   "source": [
    "# ülkeleri imdb puanlarına göre sıralayalım ve hangi ülkelerin ilk 5 bine girdiğini hesaplayalım\n",
    "# sonra ülke bazında gruplama yapıp film sayılarını hesaplayalım\n",
    "from pyspark.sql.functions import desc, count, col\n",
    "\n",
    "top_5000_films = films.orderBy(desc(\"imdb_score\")).limit(5000)\n",
    "\n",
    "film_counts_by_country = (top_5000_films.groupBy(\"country\")\n",
    "                          .agg(count(col(\"*\")).alias(\"film_count\"))\n",
    "                          .orderBy(desc(\"film_count\"))\n",
    "                          .show(30))\n"
   ]
  },
  {
   "attachments": {},
   "cell_type": "markdown",
   "metadata": {},
   "source": [
    "2- Her ülkenin ortalama imdb puanı kaç?\n"
   ]
  },
  {
   "cell_type": "code",
   "execution_count": 7,
   "metadata": {},
   "outputs": [
    {
     "name": "stdout",
     "output_type": "stream",
     "text": [
      "+--------------------+---------------+\n",
      "|country             |imdb ortalamasi|\n",
      "+--------------------+---------------+\n",
      "|Kyrgyzstan          |8.7            |\n",
      "|Libya               |8.4            |\n",
      "|United Arab Emirates|8.2            |\n",
      "|Egypt               |8.1            |\n",
      "|Soviet Union        |8.1            |\n",
      "|West Germany        |7.9            |\n",
      "|Iran                |7.7            |\n",
      "|Indonesia           |7.6            |\n",
      "|Argentina           |7.5            |\n",
      "|Israel              |7.5            |\n",
      "|Colombia            |7.5            |\n",
      "|Sweden              |7.5            |\n",
      "|Afghanistan         |7.4            |\n",
      "|Brazil              |7.4            |\n",
      "|New Zealand         |7.4            |\n",
      "|Kenya               |7.4            |\n",
      "|Denmark             |7.2            |\n",
      "|Panama              |7.2            |\n",
      "|Taiwan              |7.2            |\n",
      "|Finland             |7.2            |\n",
      "|Czech Republic      |7.0            |\n",
      "|Pakistan            |7.0            |\n",
      "|Ireland             |7.0            |\n",
      "|Chile               |6.9            |\n",
      "|Spain               |6.9            |\n",
      "|Iceland             |6.9            |\n",
      "|Dominican Republic  |6.9            |\n",
      "|China               |6.9            |\n",
      "|Netherlands         |6.9            |\n",
      "|Japan               |6.8            |\n",
      "+--------------------+---------------+\n",
      "only showing top 30 rows\n",
      "\n"
     ]
    }
   ],
   "source": [
    "from pyspark.sql.functions import avg,desc,round\n",
    "imdb_country_avg = (films.groupBy(\"country\")\n",
    "                    .agg(round(avg(\"imdb_score\"),1).alias(\"imdb ortalamasi\"))\n",
    "                    .orderBy(desc(\"imdb ortalamasi\")).show(30,truncate=False))"
   ]
  },
  {
   "attachments": {},
   "cell_type": "markdown",
   "metadata": {},
   "source": [
    "3- Her yönetmenin ortalama imdb puanı kaç?\n"
   ]
  },
  {
   "cell_type": "code",
   "execution_count": 8,
   "metadata": {},
   "outputs": [
    {
     "name": "stdout",
     "output_type": "stream",
     "text": [
      "+---------------------+---------+\n",
      "|director_name        |avg_score|\n",
      "+---------------------+---------+\n",
      "|Cary Bell            |8.7      |\n",
      "|Sadyk Sher-Niyaz     |8.7      |\n",
      "|Mike Mayhall         |8.6      |\n",
      "|Charles Chaplin      |8.6      |\n",
      "|Sergio Leone         |8.5      |\n",
      "|Majid Majidi         |8.5      |\n",
      "|Ron Fricke           |8.5      |\n",
      "|Damien Chazelle      |8.5      |\n",
      "|Raja Menon           |8.5      |\n",
      "|S.S. Rajamouli       |8.4      |\n",
      "|Robert Mulligan      |8.4      |\n",
      "|Christopher Nolan    |8.4      |\n",
      "|Marius A. Markevicius|8.4      |\n",
      "|Jay Oliva            |8.4      |\n",
      "|Asghar Farhadi       |8.4      |\n",
      "|Richard Marquand     |8.4      |\n",
      "|Bill Melendez        |8.4      |\n",
      "|Moustapha Akkad      |8.4      |\n",
      "|Stanley Donen        |8.3      |\n",
      "|Lee Unkrich          |8.3      |\n",
      "|Lenny Abrahamson     |8.3      |\n",
      "|John Sturges         |8.3      |\n",
      "|Fritz Lang           |8.3      |\n",
      "|Sut Jhally           |8.3      |\n",
      "|Joe Kenemore         |8.2      |\n",
      "|Rajkumar Hirani      |8.2      |\n",
      "|Hayao Miyazaki       |8.2      |\n",
      "|Joshua Oppenheimer   |8.2      |\n",
      "|Amal Al-Agroobi      |8.2      |\n",
      "|Frank Lotito         |8.2      |\n",
      "+---------------------+---------+\n",
      "only showing top 30 rows\n",
      "\n"
     ]
    }
   ],
   "source": [
    "director_groups = films.groupBy(\"director_name\")\n",
    "\n",
    "director_avg_scores = (director_groups\n",
    "                       .agg(round(avg(\"imdb_score\"),1)\n",
    "                            .alias(\"avg_score\")))\n",
    "director_avg_scores_sorted = director_avg_scores.sort(\"avg_score\", ascending=False).show(30,truncate=False)"
   ]
  },
  {
   "attachments": {},
   "cell_type": "markdown",
   "metadata": {},
   "source": [
    "4- En çok hangi türde film ilk 5000'de yer almıştır\n"
   ]
  },
  {
   "cell_type": "code",
   "execution_count": 9,
   "metadata": {},
   "outputs": [
    {
     "name": "stderr",
     "output_type": "stream",
     "text": [
      "[Stage 18:>                                                         (0 + 1) / 1]\r"
     ]
    },
    {
     "name": "stdout",
     "output_type": "stream",
     "text": [
      "En çok Drama türündeki filmler ilk 5 binde yer almaktadır.\n"
     ]
    },
    {
     "name": "stderr",
     "output_type": "stream",
     "text": [
      "                                                                                \r"
     ]
    }
   ],
   "source": [
    "# 1.Yol\n",
    "\n",
    "from pyspark.sql.functions import desc\n",
    "\n",
    "# Sütunları seç\n",
    "movies = films.select(\"genres\", \"imdb_score\")\n",
    "\n",
    "# Sadece ilk 5000 filmden oluşan bir veri kümesi oluştur\n",
    "movies = movies.orderBy(desc(\"imdb_score\")).limit(5000)\n",
    "\n",
    "# '|' karakteriyle ayrılmış türlerin listesini al\n",
    "genres = movies.rdd.flatMap(lambda row: row[0].split(\"|\"))\n",
    "\n",
    "# Her türün sayısını say ve en yüksek olanı al\n",
    "top_genre = genres.countByValue().items()\n",
    "top_genre = sorted(top_genre, key=lambda x: x[1], reverse=True)[0][0]\n",
    "\n",
    "# Cevabı yazdır\n",
    "print(\"En çok {} türündeki filmler ilk 5 binde yer almaktadır.\".format(top_genre))"
   ]
  },
  {
   "cell_type": "code",
   "execution_count": 10,
   "metadata": {},
   "outputs": [
    {
     "name": "stdout",
     "output_type": "stream",
     "text": [
      "+-----+-----+\n",
      "|genre|count|\n",
      "+-----+-----+\n",
      "|Drama|1961 |\n",
      "+-----+-----+\n",
      "only showing top 1 row\n",
      "\n"
     ]
    }
   ],
   "source": [
    "# 2.Yol\n",
    "\n",
    "from pyspark.sql.functions import desc, split\n",
    "\n",
    "movies_filtered = films.filter(\n",
    "    films.gross.isNotNull())\n",
    "\n",
    "movies = movies_filtered.select(\"genres\", \"imdb_score\")\n",
    "\n",
    "top_movies = movies.orderBy(desc(\"imdb_score\")).limit(5000)\n",
    "\n",
    "top_genres = top_movies.select(\n",
    "    split(top_movies.genres, \"\\|\")\n",
    "    .alias(\"genre\")).selectExpr(\"explode(genre) as genre\")\n",
    "\n",
    "(top_genres.groupBy(\"genre\")\n",
    " .count()\n",
    " .sort(desc(\"count\"))\n",
    " .show(1, False))"
   ]
  },
  {
   "cell_type": "code",
   "execution_count": 11,
   "metadata": {},
   "outputs": [
    {
     "name": "stdout",
     "output_type": "stream",
     "text": [
      "+-----------+-----+\n",
      "|genre      |count|\n",
      "+-----------+-----+\n",
      "|Drama      |6841 |\n",
      "|Comedy     |4998 |\n",
      "|Thriller   |4528 |\n",
      "|Action     |4047 |\n",
      "|Adventure  |3464 |\n",
      "|Romance    |3218 |\n",
      "|Crime      |2793 |\n",
      "|Fantasy    |2241 |\n",
      "|Sci-Fi     |2123 |\n",
      "|Family     |2079 |\n",
      "|Mystery    |1622 |\n",
      "|Horror     |1474 |\n",
      "|Animation  |1059 |\n",
      "|Biography  |941  |\n",
      "|War        |736  |\n",
      "|History    |734  |\n",
      "|Music      |613  |\n",
      "|Musical    |507  |\n",
      "|Sport      |506  |\n",
      "|Western    |303  |\n",
      "|Documentary|179  |\n",
      "|Film-Noir  |18   |\n",
      "|Short      |10   |\n",
      "|News       |6    |\n",
      "|Reality-TV |3    |\n",
      "|Game-Show  |3    |\n",
      "+-----------+-----+\n",
      "\n"
     ]
    }
   ],
   "source": [
    "# 3.Yol\n",
    "\n",
    "from pyspark.sql.functions import explode, split\n",
    "\n",
    "df_films = films.withColumn(\"genre\", explode(split(\"genres\",\"\\|\")))\n",
    "category_count = (df_films\n",
    "                  .withColumn(\"genre\", \n",
    "                              explode(split(\"genres\", \"\\|\")))\n",
    "                  .groupBy(\"genre\").count())\n",
    "category_count = category_count.sort(\"count\",ascending=False)\n",
    "category_count.show(30,truncate=False) # bizim ihtiyacımız olan en çok hangi tür olduğudur\n",
    "                        # bu yüzden show içerisine kaç yazdığımızın bir önemi yok"
   ]
  },
  {
   "attachments": {},
   "cell_type": "markdown",
   "metadata": {},
   "source": [
    "5- En fazla bütçeye sahip olan filmler toplamda ne kadar hasılat elde etti? En fazla bütçeye sahip olan ilk 20 filmi karşılaştırın ortalama hasılatı yazdırın.\n"
   ]
  },
  {
   "cell_type": "code",
   "execution_count": 12,
   "metadata": {},
   "outputs": [
    {
     "name": "stdout",
     "output_type": "stream",
     "text": [
      "En yüksek bütçeye sahip olan ilk 20 film, toplamda 1535068309 hasılat elde etti. Ortalama hasılat ise 76753415.45.\n",
      "+--------------------------------------------+-----------+\n",
      "|movie_title                                 |budget     |\n",
      "+--------------------------------------------+-----------+\n",
      "|The Host                                    |12215500000|\n",
      "|Lady Vengeance                              |4200000000 |\n",
      "|Fateless                                    |2500000000 |\n",
      "|Princess Mononoke                           |2400000000 |\n",
      "|Steamboy                                    |2127519898 |\n",
      "|Akira                                       |1100000000 |\n",
      "|Godzilla 2000                               |1000000000 |\n",
      "|Kabhi Alvida Naa Kehna                      |700000000  |\n",
      "|Tango                                       |700000000  |\n",
      "|Kites                                       |600000000  |\n",
      "|Red Cliff                                   |553632000  |\n",
      "|The Legend of Suriyothai                    |400000000  |\n",
      "|The Messenger: The Story of Joan of Arc     |390000000  |\n",
      "|Ong-bak 2                                   |300000000  |\n",
      "|Pirates of the Caribbean: At World's End    |300000000  |\n",
      "|John Carter                                 |263700000  |\n",
      "|Tangled                                     |260000000  |\n",
      "|Spider-Man 3                                |258000000  |\n",
      "|Spider-Man 3                                |258000000  |\n",
      "|Avengers: Age of Ultron                     |250000000  |\n",
      "|Harry Potter and the Half-Blood Prince      |250000000  |\n",
      "|Pirates of the Caribbean: On Stranger Tides |250000000  |\n",
      "|Batman v Superman: Dawn of Justice          |250000000  |\n",
      "|The Hobbit: The Battle of the Five Armies   |250000000  |\n",
      "|The Dark Knight Rises                       |250000000  |\n",
      "|Captain America: Civil War                  |250000000  |\n",
      "|Spectre                                     |245000000  |\n",
      "|Avatar                                      |237000000  |\n",
      "|The Amazing Spider-Man                      |230000000  |\n",
      "|Pirates of the Caribbean: Dead Man's Chest  |225000000  |\n",
      "+--------------------------------------------+-----------+\n",
      "only showing top 30 rows\n",
      "\n"
     ]
    }
   ],
   "source": [
    "from pyspark.sql.functions import desc\n",
    "\n",
    "\n",
    "budget_revenue = (films.select('budget', 'gross', 'movie_title')\n",
    "                  .orderBy(desc('budget'))\n",
    "                  .head(20))\n",
    "budged_filtered_20 = films.select(\"movie_title\",\"budget\").orderBy(\"budget\",ascending=False)\n",
    "\n",
    "total_revenue = sum([film.gross for film in budget_revenue])\n",
    "\n",
    "average_revenue = total_revenue/20\n",
    "\n",
    "print(\"En yüksek bütçeye sahip olan ilk 20 film, toplamda {} hasılat elde etti. Ortalama hasılat ise {}.\".format(total_revenue, average_revenue))\n",
    "budged_filtered_20.show(30,truncate=False)"
   ]
  },
  {
   "attachments": {},
   "cell_type": "markdown",
   "metadata": {},
   "source": [
    "6- En çok beğeni almış siyah beyaz filmlerin isimlerini, çıkış tarihlerini ve yönetmenlerini yazdırın."
   ]
  },
  {
   "cell_type": "code",
   "execution_count": 13,
   "metadata": {},
   "outputs": [
    {
     "name": "stdout",
     "output_type": "stream",
     "text": [
      "+---------------------------------------------------------------------+----------+------------------+\n",
      "|movie_title                                                          |title_year|director_name     |\n",
      "+---------------------------------------------------------------------+----------+------------------+\n",
      "|The Blair Witch Project                                              |1999      |Daniel Myrick     |\n",
      "|Moulin Rouge!                                                        |2001      |Baz Luhrmann      |\n",
      "|Casino Royale                                                        |2006      |Martin Campbell   |\n",
      "|Casino Royale                                                        |2006      |Martin Campbell   |\n",
      "|Kill Bill: Vol. 1                                                    |2003      |Quentin Tarantino |\n",
      "|Memento                                                              |2000      |Christopher Nolan |\n",
      "|The Phantom of the Opera                                             |2004      |Joel Schumacher   |\n",
      "|Pearl Harbor                                                         |2001      |Michael Bay       |\n",
      "|Sin City                                                             |2005      |Frank Miller      |\n",
      "|Eragon                                                               |2006      |Stefen Fangmeier  |\n",
      "|American History X                                                   |1998      |Tony Kaye         |\n",
      "|Forrest Gump                                                         |1994      |Robert Zemeckis   |\n",
      "|Amélie                                                               |2001      |Jean-Pierre Jeunet|\n",
      "|Schindler's List                                                     |1993      |Steven Spielberg  |\n",
      "|Die Another Day                                                      |2002      |Lee Tamahori      |\n",
      "|Psycho                                                               |1960      |Alfred Hitchcock  |\n",
      "|Chicago                                                              |2002      |Rob Marshall      |\n",
      "|Kill Bill: Vol. 2                                                    |2004      |Quentin Tarantino |\n",
      "|House of 1000 Corpses                                                |2003      |Rob Zombie        |\n",
      "|Bowling for Columbine                                                |2002      |Michael Moore     |\n",
      "|12 Angry Men                                                         |1957      |Sidney Lumet      |\n",
      "|The Boondock Saints                                                  |1999      |Troy Duffy        |\n",
      "|Hero                                                                 |2002      |Yimou Zhang       |\n",
      "|Hero                                                                 |2002      |Yimou Zhang       |\n",
      "|Dr. Strangelove or: How I Learned to Stop Worrying and Love the Bomb |1964      |Stanley Kubrick   |\n",
      "|The Aviator                                                          |2004      |Martin Scorsese   |\n",
      "|The League of Extraordinary Gentlemen                                |2003      |Stephen Norrington|\n",
      "|The Pianist                                                          |2002      |Roman Polanski    |\n",
      "|Run Lola Run                                                         |1998      |Tom Tykwer        |\n",
      "|Land of the Dead                                                     |2005      |George A. Romero  |\n",
      "+---------------------------------------------------------------------+----------+------------------+\n",
      "only showing top 30 rows\n",
      "\n"
     ]
    }
   ],
   "source": [
    "blacknwhite_movies = (films.filter(films.color == \" Black and White\")\n",
    "                         .select(\"movie_title\", \"title_year\",\"director_name\")\n",
    "                         .orderBy(films.num_user_for_reviews.desc())) \n",
    "blacknwhite_movies.show(30,truncate=False)\n"
   ]
  },
  {
   "attachments": {},
   "cell_type": "markdown",
   "metadata": {},
   "source": [
    "7- Drama, Comedy, Romance, War, Sci-Fi kategorilerinde filmleri seven bir kullanıcıya film önerisi yapın."
   ]
  },
  {
   "cell_type": "code",
   "execution_count": 14,
   "metadata": {},
   "outputs": [
    {
     "name": "stdout",
     "output_type": "stream",
     "text": [
      "+---------------------------------------------------------------------+----------+\n",
      "|movie_title                                                          |imdb_score|\n",
      "+---------------------------------------------------------------------+----------+\n",
      "|Fight Club                                                           |8.8       |\n",
      "|One Flew Over the Cuckoo's Nest                                      |8.7       |\n",
      "|Dr. Strangelove or: How I Learned to Stop Worrying and Love the Bomb |8.5       |\n",
      "|American Beauty                                                      |8.4       |\n",
      "|Requiem for a Dream                                                  |8.4       |\n",
      "|Room                                                                 |8.3       |\n",
      "|Good Will Hunting                                                    |8.3       |\n",
      "|The Hunt                                                             |8.3       |\n",
      "|Trainspotting                                                        |8.2       |\n",
      "|Gran Torino                                                          |8.2       |\n",
      "+---------------------------------------------------------------------+----------+\n",
      "\n"
     ]
    }
   ],
   "source": [
    "from pyspark.sql.functions import col\n",
    "\n",
    "# kullanıcın istediğ kategorileri bir dizi haline getirelim ki sonradan değiştirmemiz kolay olsun\n",
    "selected_genres = [\"Drama\", \"Comedy\", \"Romance\", \"War\", \"Sci-Fi\"]\n",
    "\n",
    "selected_movies = films.filter(col(\"genres\").isin(selected_genres))\n",
    "\n",
    "# imdb_score sütununa göre sıralayalım\n",
    "sorted_movies = selected_movies.orderBy(col(\"imdb_score\").desc())\n",
    "\n",
    "# En yüksek puan alan 10 filmi öneri olarak verelim\n",
    "top_movies = sorted_movies.select(\"movie_title\", \"imdb_score\").limit(10)\n",
    "\n",
    "# Öneri listesini gösterelim\n",
    "top_movies.show(30,truncate=False)\n"
   ]
  },
  {
   "attachments": {},
   "cell_type": "markdown",
   "metadata": {},
   "source": [
    "8- Quentin Tarantino'nun ve en çok beğeni toplamış 5 filmini kategorileriyle, çıkış yılı ve isimleriyle birlikte yazdırın."
   ]
  },
  {
   "cell_type": "code",
   "execution_count": 15,
   "metadata": {},
   "outputs": [
    {
     "name": "stdout",
     "output_type": "stream",
     "text": [
      "+--------------------+----------+---------------------+----------+\n",
      "|genres              |title_year|movie_title          |imdb_score|\n",
      "+--------------------+----------+---------------------+----------+\n",
      "|Crime|Drama         |1994      |Pulp Fiction         |8.9       |\n",
      "|Drama|Western       |2012      |Django Unchained     |8.5       |\n",
      "|Crime|Drama|Thriller|1992      |Reservoir Dogs       |8.4       |\n",
      "|Adventure|Drama|War |2009      |Inglourious Basterds |8.3       |\n",
      "|Action              |2003      |Kill Bill: Vol. 1    |8.1       |\n",
      "+--------------------+----------+---------------------+----------+\n",
      "\n"
     ]
    }
   ],
   "source": [
    "from pyspark.sql.functions import desc\n",
    "\n",
    "tarantino_movies = films.filter(films.director_name == \"Quentin Tarantino\" ) \n",
    "sorted_movies = tarantino_movies.sort(desc(\"imdb_score\"))\n",
    "\n",
    "top_movies = sorted_movies.limit(5)\n",
    "top_movies.select(\"genres\", \"title_year\", \"movie_title\", \"imdb_score\").show(truncate=False)"
   ]
  },
  {
   "attachments": {},
   "cell_type": "markdown",
   "metadata": {},
   "source": [
    "9- Kullanıcının seçtiği (3)kategorileri bir sözlük yapısında tutun. Kullanıcıya bu sözlük yapısında bulunan kategorilerin her birinden 10 adet film önerisinde bulunun."
   ]
  },
  {
   "cell_type": "code",
   "execution_count": 16,
   "metadata": {},
   "outputs": [
    {
     "name": "stdout",
     "output_type": "stream",
     "text": [
      "Drama kategorisindeki öneriler:\n",
      "+--------------------------------------------------+------------------------------+\n",
      "|movie_title                                       |genres                        |\n",
      "+--------------------------------------------------+------------------------------+\n",
      "|The Shawshank Redemption                          |Crime|Drama                   |\n",
      "|The Godfather                                     |Crime|Drama                   |\n",
      "|The Dark Knight                                   |Action|Crime|Drama|Thriller   |\n",
      "|The Godfather: Part II                            |Crime|Drama                   |\n",
      "|The Lord of the Rings: The Return of the King     |Action|Adventure|Drama|Fantasy|\n",
      "|Schindler's List                                  |Biography|Drama|History       |\n",
      "|Pulp Fiction                                      |Crime|Drama                   |\n",
      "|12 Angry Men                                      |Crime|Drama                   |\n",
      "|Forrest Gump                                      |Comedy|Drama                  |\n",
      "|The Lord of the Rings: The Fellowship of the Ring |Action|Adventure|Drama|Fantasy|\n",
      "+--------------------------------------------------+------------------------------+\n",
      "\n",
      "Comedy kategorisindeki öneriler:\n",
      "+---------------------------------------------------------------------+-----------------------------------------+\n",
      "|movie_title                                                          |genres                                   |\n",
      "+---------------------------------------------------------------------+-----------------------------------------+\n",
      "|Forrest Gump                                                         |Comedy|Drama                             |\n",
      "|Modern Times                                                         |Comedy|Drama|Family                      |\n",
      "|Back to the Future                                                   |Adventure|Comedy|Sci-Fi                  |\n",
      "|Dr. Strangelove or: How I Learned to Stop Worrying and Love the Bomb |Comedy                                   |\n",
      "|Amélie                                                               |Comedy|Romance                           |\n",
      "|A Charlie Brown Christmas                                            |Animation|Comedy|Family                  |\n",
      "|Toy Story                                                            |Adventure|Animation|Comedy|Family|Fantasy|\n",
      "|Toy Story 3                                                          |Adventure|Animation|Comedy|Family|Fantasy|\n",
      "|Up                                                                   |Adventure|Animation|Comedy|Family        |\n",
      "|The Sting                                                            |Comedy|Crime|Drama                       |\n",
      "+---------------------------------------------------------------------+-----------------------------------------+\n",
      "\n",
      "Romance kategorisindeki öneriler:\n",
      "+--------------------------------------+----------------------------+\n",
      "|movie_title                           |genres                      |\n",
      "+--------------------------------------+----------------------------+\n",
      "|It's a Wonderful Life                 |Drama|Family|Fantasy|Romance|\n",
      "|Casablanca                            |Drama|Romance|War           |\n",
      "|Gladiator                             |Action|Drama|Romance        |\n",
      "|Amélie                                |Comedy|Romance              |\n",
      "|Eternal Sunshine of the Spotless Mind |Drama|Fantasy|Romance|Sci-Fi|\n",
      "|The Apartment                         |Comedy|Drama|Romance        |\n",
      "|Some Like It Hot                      |Comedy|Music|Romance        |\n",
      "|Singin' in the Rain                   |Comedy|Musical|Romance      |\n",
      "|The Big Parade                        |Drama|Romance|War           |\n",
      "|Lage Raho Munna Bhai                  |Comedy|Drama|Romance        |\n",
      "+--------------------------------------+----------------------------+\n",
      "\n"
     ]
    }
   ],
   "source": [
    "# Kullanıcının seçtiği kategorileri belirleyelim\n",
    "kategoriler = [\"Drama\", \"Comedy\", \"Romance\"]\n",
    "\n",
    "# Sözlük yapısı oluşturalım\n",
    "kategoriler_dict = {}\n",
    "for kategori in kategoriler:\n",
    "    kategoriler_dict[kategori] = films.filter(films.genres.contains(kategori)).limit(10)\n",
    "\n",
    "print(\"Drama kategorisindeki öneriler:\")\n",
    "kategoriler_dict[\"Drama\"].select(\"movie_title\", \"genres\").show(truncate=False)\n",
    "\n",
    "print(\"Comedy kategorisindeki öneriler:\")\n",
    "kategoriler_dict[\"Comedy\"].select(\"movie_title\", \"genres\").show(truncate=False)\n",
    "\n",
    "print(\"Romance kategorisindeki öneriler:\")\n",
    "kategoriler_dict[\"Romance\"].select(\"movie_title\", \"genres\").show(truncate=False)\n",
    "\n",
    "\n"
   ]
  },
  {
   "attachments": {},
   "cell_type": "markdown",
   "metadata": {},
   "source": [
    "10- Kullanıcının izlediği diğer filmlere dayanarak bir kullanıcı için film önerileri yapın. Kullanıcının izlediği filmler bir sözlük halinde bulunsun."
   ]
  },
  {
   "cell_type": "code",
   "execution_count": 19,
   "metadata": {},
   "outputs": [],
   "source": [
    "# Aşağıda yazmış olduğumuz kod, \n",
    "# kullanıcının izlediği filmlerin türlerine göre diğer filmleri filtreleyerek \n",
    "# ve toplam Facebook beğeni sayısına ve IMDB puanına göre sıralayarak, \n",
    "# kullanıcıya önerilerde bulunur. \n",
    "# Önerilen filmler recommended_movies listesi içinde depolanır \n",
    "# ve daha sonra döngü ile yazdırılır."
   ]
  },
  {
   "cell_type": "code",
   "execution_count": 17,
   "metadata": {},
   "outputs": [
    {
     "name": "stdout",
     "output_type": "stream",
     "text": [
      "Recommended movies based on user's watched movies:\n",
      "Boyhood  - Total Facebook likes: 92000 - IMDB Score: 8.0\n",
      "The Help  - Total Facebook likes: 75000 - IMDB Score: 8.1\n",
      "Room  - Total Facebook likes: 72000 - IMDB Score: 8.3\n",
      "The Hunt  - Total Facebook likes: 60000 - IMDB Score: 8.3\n",
      "Fight Club  - Total Facebook likes: 48000 - IMDB Score: 8.8\n",
      "Still Alice  - Total Facebook likes: 45000 - IMDB Score: 7.5\n",
      "Requiem for a Dream  - Total Facebook likes: 38000 - IMDB Score: 8.4\n",
      "Blue Jasmine  - Total Facebook likes: 36000 - IMDB Score: 7.3\n",
      "One Flew Over the Cuckoo's Nest  - Total Facebook likes: 32000 - IMDB Score: 8.7\n",
      "Good Will Hunting  - Total Facebook likes: 31000 - IMDB Score: 8.3\n"
     ]
    }
   ],
   "source": [
    "from pyspark.sql.functions import col\n",
    "\n",
    "# kullanıcının izlediği filmler\n",
    "user_watched_movies = {'Avatar ', 'The Dark Knight ', 'Inception ', 'The Matrix ', 'Interstellar '}\n",
    "\n",
    "# kullanıcının izlediği filmler filtrelenir ve filmlerin türleri explode edelim\n",
    "user_watched_movies_genres = films.filter(col('movie_title').isin(user_watched_movies)) \\\n",
    "    .select('movie_title', 'genres') \\\n",
    "    .withColumn('genres', explode(split(col('genres'), '\\|'))) \\\n",
    "    .select('genres')\n",
    "\n",
    "# kullanıcının izlediği filmlerin türlerine göre öneri filmler seçelim\n",
    "recommended_movies = films.filter(col('genres').isin(user_watched_movies_genres.rdd.map(lambda x: x[0]).collect())) \\\n",
    "    .filter(~col('movie_title').isin(user_watched_movies)) \\\n",
    "    .groupBy('movie_title') \\\n",
    "    .agg({'movie_facebook_likes': 'sum', 'imdb_score': 'max'}) \\\n",
    "    .withColumnRenamed('sum(movie_facebook_likes)', 'total_facebook_likes') \\\n",
    "    .withColumnRenamed('max(imdb_score)', 'imdb_score') \\\n",
    "    .sort(col('total_facebook_likes').desc(), col('imdb_score').desc()) \\\n",
    "    .limit(10) \\\n",
    "    .select('movie_title', 'total_facebook_likes', 'imdb_score') \\\n",
    "    .collect()\n",
    "\n",
    "# öneri filmleri yazdıralım\n",
    "print(\"Recommended movies based on user's watched movies:\")\n",
    "for movie in recommended_movies:\n",
    "    print(movie['movie_title'], '- Total Facebook likes:', movie['total_facebook_likes'], '- IMDB Score:', movie['imdb_score'])\n"
   ]
  }
 ],
 "metadata": {
  "kernelspec": {
   "display_name": "notebooks",
   "language": "python",
   "name": "notebooks"
  },
  "language_info": {
   "codemirror_mode": {
    "name": "ipython",
    "version": 3
   },
   "file_extension": ".py",
   "mimetype": "text/x-python",
   "name": "python",
   "nbconvert_exporter": "python",
   "pygments_lexer": "ipython3",
   "version": "3.10.4"
  },
  "orig_nbformat": 4
 },
 "nbformat": 4,
 "nbformat_minor": 2
}
